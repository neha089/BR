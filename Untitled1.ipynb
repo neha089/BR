{
  "nbformat": 4,
  "nbformat_minor": 0,
  "metadata": {
    "colab": {
      "provenance": [],
      "authorship_tag": "ABX9TyOP62ePnHdZ9wx1sUrOyQjV",
      "include_colab_link": true
    },
    "kernelspec": {
      "name": "python3",
      "display_name": "Python 3"
    },
    "language_info": {
      "name": "python"
    }
  },
  "cells": [
    {
      "cell_type": "markdown",
      "metadata": {
        "id": "view-in-github",
        "colab_type": "text"
      },
      "source": [
        "<a href=\"https://colab.research.google.com/github/neha089/BR/blob/main/Untitled1.ipynb\" target=\"_parent\"><img src=\"https://colab.research.google.com/assets/colab-badge.svg\" alt=\"Open In Colab\"/></a>"
      ]
    },
    {
      "cell_type": "code",
      "execution_count": 2,
      "metadata": {
        "id": "mzBAYTlV2BbL"
      },
      "outputs": [],
      "source": [
        "import numpy as np\n",
        "alist=[1,2,3]  #list\n",
        "narr=np.array([1,2,3]) #array"
      ]
    },
    {
      "cell_type": "code",
      "source": [
        "print(narr+narr)   #do sum element wise\n",
        "print(alist+alist)  #concate\n",
        "#same for other arithmatic op *"
      ],
      "metadata": {
        "colab": {
          "base_uri": "https://localhost:8080/"
        },
        "id": "X1rwd1DF21HD",
        "outputId": "2e87c4b2-eedd-4b50-e631-f02fd0b31d63"
      },
      "execution_count": 4,
      "outputs": [
        {
          "output_type": "stream",
          "name": "stdout",
          "text": [
            "[2 4 6]\n",
            "[1, 2, 3, 1, 2, 3]\n"
          ]
        }
      ]
    },
    {
      "cell_type": "code",
      "source": [
        "x=np.array([[1,2],[4,5]] , dtype=np.float64);\n",
        "y = np.array([[5,6],[7,8]], dtype=np.float64)\n",
        "#can specifing the type\n"
      ],
      "metadata": {
        "id": "hn5AX3533F6V"
      },
      "execution_count": 11,
      "outputs": []
    },
    {
      "cell_type": "code",
      "source": [
        "print(x.dot(y))\n",
        "print(x@ y)\n",
        "print(np.dot(x, y))\n",
        "#all rpoduce same ans\n",
        "#can do dot product"
      ],
      "metadata": {
        "colab": {
          "base_uri": "https://localhost:8080/"
        },
        "id": "sNDdaIw_4B7e",
        "outputId": "38e49887-1bd2-43fe-9317-1700889005a0"
      },
      "execution_count": 13,
      "outputs": [
        {
          "output_type": "stream",
          "name": "stdout",
          "text": [
            "[[19. 22.]\n",
            " [55. 64.]]\n",
            "[[19. 22.]\n",
            " [55. 64.]]\n",
            "[[19. 22.]\n",
            " [55. 64.]]\n"
          ]
        }
      ]
    },
    {
      "cell_type": "code",
      "source": [
        "x = np.array([[1,2],[3,4]])\n",
        "\n",
        "print(np.sum(x)) # Compute sum of all elements; prints \"10\"\n",
        "print(np.sum(x, axis=0)) # Compute sum of each column;\n",
        "print(np.sum(x, axis=1)) # Compute sum of each row; prints\n"
      ],
      "metadata": {
        "colab": {
          "base_uri": "https://localhost:8080/"
        },
        "id": "JlO9PogQ43Om",
        "outputId": "6e31ca8d-7092-440f-c3f9-855c46238cf7"
      },
      "execution_count": 14,
      "outputs": [
        {
          "output_type": "stream",
          "name": "stdout",
          "text": [
            "10\n",
            "[4 6]\n",
            "[3 7]\n"
          ]
        }
      ]
    },
    {
      "cell_type": "code",
      "source": [
        "print(x)\n",
        "print(\"transpose\\n\", x.T)"
      ],
      "metadata": {
        "colab": {
          "base_uri": "https://localhost:8080/"
        },
        "id": "y0SRz1_y4FPH",
        "outputId": "47e75dc6-f956-43ba-b9bc-b9629afaa2f1"
      },
      "execution_count": 15,
      "outputs": [
        {
          "output_type": "stream",
          "name": "stdout",
          "text": [
            "[[1 2]\n",
            " [3 4]]\n",
            "transpose\n",
            " [[1 3]\n",
            " [2 4]]\n"
          ]
        }
      ]
    },
    {
      "cell_type": "code",
      "source": [
        "npmatrix1 = np.array([narr, narr, narr]) # Matrix initialized with NumPy arrays\n",
        "npmatrix2 = np.array([alist, alist, alist]) # Matrix initialized with lists\n",
        "npmatrix3 = np.array([narr, [1, 1, 1], narr]) #Matrix initialized with both types\n",
        "#all inner arr and list must have the same dimention"
      ],
      "metadata": {
        "id": "2wgxq9QL5dna"
      },
      "execution_count": 19,
      "outputs": []
    },
    {
      "cell_type": "code",
      "source": [
        "#want to add idff dimention then need to  add dtype as object\n",
        "badmatrix = np.array([[1,2 ], [3, 4], [6,7, 8]],dtype=object)\n",
        "# Define a matrix. Note the third row contains 3 elements\n",
        "print(badmatrix) # Print the malformed matrix\n",
        "print(badmatrix * 2) # It is supposed to scale the whole matrix"
      ],
      "metadata": {
        "colab": {
          "base_uri": "https://localhost:8080/"
        },
        "id": "GJSOh-xK6ufN",
        "outputId": "fd9cd130-8787-4977-a57c-53b57921ec95"
      },
      "execution_count": 20,
      "outputs": [
        {
          "output_type": "stream",
          "name": "stdout",
          "text": [
            "[list([1, 2]) list([3, 4]) list([6, 7, 8])]\n",
            "[list([1, 2, 1, 2]) list([3, 4, 3, 4]) list([6, 7, 8, 6, 7, 8])]\n"
          ]
        }
      ]
    },
    {
      "cell_type": "code",
      "source": [
        "#on array transpose is not working\n",
        "nparray = np.array([1, 2, 3, 4]) # Define an array\n",
        "print('Original array')\n",
        "print(nparray)\n",
        "print('Transposed array')\n",
        "print(nparray.T)\n",
        "nparray = np.array([[1, 2, 3, 4]]) # Define a 1 x 4 matrix.\n",
        "print('Original array')\n",
        "print(nparray)\n",
        "print('Transposed array')\n",
        "print(nparray.T)"
      ],
      "metadata": {
        "colab": {
          "base_uri": "https://localhost:8080/"
        },
        "id": "PUNLbFZZ7aOq",
        "outputId": "1b48ebcf-f55d-4aee-dbb4-622085991d89"
      },
      "execution_count": 21,
      "outputs": [
        {
          "output_type": "stream",
          "name": "stdout",
          "text": [
            "Original array\n",
            "[1 2 3 4]\n",
            "Transposed array\n",
            "[1 2 3 4]\n",
            "Original array\n",
            "[[1 2 3 4]]\n",
            "Transposed array\n",
            "[[1]\n",
            " [2]\n",
            " [3]\n",
            " [4]]\n"
          ]
        }
      ]
    },
    {
      "cell_type": "code",
      "source": [
        "#In linear algebra, the norm of an n-dimensional vector⃗a is defined as:\n",
        "\n",
        "#norm(⃗a) = ||⃗a|| =\n",
        "#s n\n",
        "#∑\n",
        "#i=1\n",
        "#a\n",
        "#2\n",
        "#linalg.norm(array/mat name)"
      ],
      "metadata": {
        "id": "DUC-X2L99EtL"
      },
      "execution_count": 22,
      "outputs": []
    },
    {
      "cell_type": "code",
      "source": [
        "#dot product between 2 array below all are same\n",
        "nparray1 = np.array([0, 1, 2, 3]) # Define an array\n",
        "nparray2 = np.array([4, 5, 6, 7]) # Define an array\n",
        "\n",
        "flavor1 = np.dot(nparray1, nparray2) # Way-1\n",
        "print(flavor1)\n",
        "\n",
        "flavor2 = np.sum(nparray1 * nparray2) # Way-2\n",
        "print(flavor2)\n",
        "\n",
        "flavor3 = nparray1 @ nparray2 # Way-3\n",
        "print(flavor3)\n",
        "\n",
        "# As you never should do: #Way-4\n",
        "flavor4 = 0\n",
        "for a, b in zip(nparray1, nparray2):\n",
        "   flavor4 += a * b\n",
        "print(flavor4)"
      ],
      "metadata": {
        "colab": {
          "base_uri": "https://localhost:8080/"
        },
        "id": "dAVLyKEbDY_O",
        "outputId": "6f6134c4-672b-4b78-908b-f19ddcd4800b"
      },
      "execution_count": 29,
      "outputs": [
        {
          "output_type": "stream",
          "name": "stdout",
          "text": [
            "38\n",
            "38\n",
            "38\n",
            "38\n"
          ]
        }
      ]
    },
    {
      "cell_type": "code",
      "source": [
        "#get the mean by rows and cols\n",
        "nparray2 = np.array([[1, -1], [2, -2], [3, -3]]) # Define a3 x 2 matrix. Chosen to be a matrix with 0 mean\n",
        "\n",
        "mean = np.mean(nparray2) # Get the mean for the whole matrix\n",
        "meanByCols = np.mean(nparray2, axis=0) # Get the mean foreach column. Returns 2 elements\n",
        "meanByRows = np.mean(nparray2, axis=1) # get the mean foreach row. Returns 3 elements\n",
        "\n",
        "print('Matrix mean: ')\n",
        "print(mean)\n",
        "print('Mean by columns: ')\n",
        "print(meanByCols)\n",
        "print('Mean by rows:')\n",
        "print(meanByRows)"
      ],
      "metadata": {
        "colab": {
          "base_uri": "https://localhost:8080/"
        },
        "id": "bwSNtid1DY6Z",
        "outputId": "ff0ca5b0-eeb7-4227-cb98-36856214051d"
      },
      "execution_count": 30,
      "outputs": [
        {
          "output_type": "stream",
          "name": "stdout",
          "text": [
            "Matrix mean: \n",
            "0.0\n",
            "Mean by columns: \n",
            "[ 2. -2.]\n",
            "Mean by rows:\n",
            "[0. 0. 0.]\n"
          ]
        }
      ]
    },
    {
      "cell_type": "code",
      "source": [
        "#for center and columns of matrix just remove the  mean form each column\n",
        "#center not allow row of matrix if you want it just do center column and then transpot iut"
      ],
      "metadata": {
        "id": "HxhS3TawDY3J"
      },
      "execution_count": null,
      "outputs": []
    },
    {
      "cell_type": "code",
      "source": [
        "#nltk used for NLP,text processing tokenizaioon parsing and classification streaming tagging and semantic reasoning"
      ],
      "metadata": {
        "id": "gRxzZtZoDYvp"
      },
      "execution_count": null,
      "outputs": []
    },
    {
      "cell_type": "code",
      "source": [
        "import nltk\n",
        "from nltk.corpus import twitter_samples\n",
        "import matplotlib.pyplot as plt # library for\n",
        "\n",
        "import random\n",
        "nltk.download('twitter_samples') # on folder root folder\n",
        "nltk.download('stopwords')\n"
      ],
      "metadata": {
        "colab": {
          "base_uri": "https://localhost:8080/"
        },
        "id": "qUSq20H__B1l",
        "outputId": "416471ae-b625-44e6-820c-522704c5102d"
      },
      "execution_count": 28,
      "outputs": [
        {
          "output_type": "stream",
          "name": "stderr",
          "text": [
            "[nltk_data] Downloading package twitter_samples to /root/nltk_data...\n",
            "[nltk_data]   Package twitter_samples is already up-to-date!\n",
            "[nltk_data] Downloading package stopwords to /root/nltk_data...\n",
            "[nltk_data]   Unzipping corpora/stopwords.zip.\n"
          ]
        },
        {
          "output_type": "execute_result",
          "data": {
            "text/plain": [
              "True"
            ]
          },
          "metadata": {},
          "execution_count": 28
        }
      ]
    },
    {
      "cell_type": "code",
      "source": [
        "#abstract data from the downloaded file\n",
        "all_positive_tweets = twitter_samples.strings('positive_tweets.json')\n",
        "all_negative_tweets = twitter_samples.strings('negative_tweets.json')\n",
        "print('Number of positive tweets: ',len(all_positive_tweets))\n",
        "print('Number of negative tweets: ',len(all_negative_tweets))"
      ],
      "metadata": {
        "colab": {
          "base_uri": "https://localhost:8080/"
        },
        "id": "U6-ED-n29JdB",
        "outputId": "54d31c26-197c-4062-cbbc-e4bf21a0a1ea"
      },
      "execution_count": 32,
      "outputs": [
        {
          "output_type": "stream",
          "name": "stdout",
          "text": [
            "Number of positive tweets:  5000\n",
            "Number of negative tweets:  5000\n"
          ]
        }
      ]
    },
    {
      "cell_type": "code",
      "source": [
        "fig=plt.figure(figsize=(5,5))\n",
        "labels='ML-HAP-LEC','ML-SPS-LEC','ML-HAP-LAB','ML-SPS-LAB'\n",
        "sizes=[35,35,15,15]\n",
        "plt.pie(sizes, labels=labels, autopct='%.2f%%',\n",
        "\n",
        "shadow=True, startangle=90)\n",
        "plt.axis('equal')\n",
        "\n",
        "# Display the chart\n",
        "plt.show()"
      ],
      "metadata": {
        "colab": {
          "base_uri": "https://localhost:8080/",
          "height": 427
        },
        "id": "LdKVkR1wGFc9",
        "outputId": "992ec8ce-4b62-4222-e6a4-6e776aa226fe"
      },
      "execution_count": 33,
      "outputs": [
        {
          "output_type": "display_data",
          "data": {
            "text/plain": [
              "<Figure size 500x500 with 1 Axes>"
            ],
            "image/png": "[encoded data removed]"
          },
          "metadata": {}
        }
      ]
    },
    {
      "cell_type": "code",
      "source": [
        "#for this twitter dataset\n",
        "fig = plt.figure(figsize=(5, 5))\n",
        "\n",
        "# labels for the two classes\n",
        "labels = 'Positives', 'Negative'\n",
        "\n",
        "# Sizes for each slide\n",
        "sizes = [len(all_positive_tweets), len(all_negative_tweets)]\n",
        "\n",
        "# Declare pie chart, where the slices will be ordered andplotted counter-clockwise:\n",
        "plt.pie(sizes, labels=labels, autopct='%1.1f%%',\n",
        "\n",
        "shadow=True, startangle=90)\n",
        "\n",
        "# Equal aspect ratio ensures that pie is drawn as a circle.\n",
        "plt.axis('equal')\n",
        "\n",
        "# Display the chart\n",
        "plt.show()\n",
        "\n"
      ],
      "metadata": {
        "colab": {
          "base_uri": "https://localhost:8080/",
          "height": 422
        },
        "id": "49p9TpWnGqah",
        "outputId": "2f5c7466-0943-4153-8632-14257badf3b9"
      },
      "execution_count": 34,
      "outputs": [
        {
          "output_type": "display_data",
          "data": {
            "text/plain": [
              "<Figure size 500x500 with 1 Axes>"
            ],
            "image/png": "[encoded data removed]"
          },
          "metadata": {}
        }
      ]
    },
    {
      "cell_type": "code",
      "source": [
        "#for data processing do\n",
        "#tokenizing the string\n",
        "#lowercasing\n",
        "#remove stop words an punctuaton\n",
        "#streaming"
      ],
      "metadata": {
        "id": "m3MGpqZTG8sJ"
      },
      "execution_count": 35,
      "outputs": []
    },
    {
      "cell_type": "code",
      "source": [
        "import re\n",
        "import string\n",
        "from nltk.corpus import stopwords # module for stopwords that come with NLTK\n",
        "from nltk.stem import PorterStemmer # module forstemming\n",
        "from nltk.tokenize import TweetTokenizer # module for tokenizing strings\n",
        "from nltk.stem import WordNetLemmatizer"
      ],
      "metadata": {
        "id": "fLDlwH8kHaPa"
      },
      "execution_count": 37,
      "outputs": []
    },
    {
      "cell_type": "code",
      "source": [
        "tweet=\"hello happy i am i liking it so much sunflower is beautifull and soooo happiness today i am i love it\"\n",
        "print('\\033[92m' + tweet)\n",
        "print('\\033[94m')\n",
        "\n",
        "# remove hyperlinks\n",
        "tweet2 = re.sub(r'https?:\\/\\/.*[\\r\\n]*', '', tweet)\n",
        "\n",
        "# remove hashtags\n",
        "# only removing the hash # sign from the word\n",
        "tweet2 = re.sub(r'#', '', tweet2)\n",
        "\n",
        "print(tweet2)\n",
        "\n"
      ],
      "metadata": {
        "colab": {
          "base_uri": "https://localhost:8080/"
        },
        "id": "t25CKvEnH1FT",
        "outputId": "92b0f251-7982-470b-96ed-9600dc28085b"
      },
      "execution_count": 50,
      "outputs": [
        {
          "output_type": "stream",
          "name": "stdout",
          "text": [
            "\u001b[92mhello happy i am i liking it so much sunflower is beautifull and soooo happiness today i am i love it\n",
            "\u001b[94m\n",
            "hello happy i am i liking it so much sunflower is beautifull and soooo happiness today i am i love it\n"
          ]
        }
      ]
    },
    {
      "cell_type": "code",
      "source": [
        "tokenizer=TweetTokenizer(preserve_case=False)\n",
        "tweet_tokens=tokenizer.tokenize(tweet2)\n",
        "stopwords_english=stopwords.words('english')"
      ],
      "metadata": {
        "id": "MPk4BkmqIzPB"
      },
      "execution_count": 49,
      "outputs": []
    },
    {
      "cell_type": "code",
      "source": [
        "tweet_clean=[]\n",
        "for word in tweet_tokens:\n",
        "  if(word not in stopwords_english ):\n",
        "     tweet_clean.append(word)\n",
        "print(tweet_clean)"
      ],
      "metadata": {
        "colab": {
          "base_uri": "https://localhost:8080/"
        },
        "id": "Qvv4AK-zJVb9",
        "outputId": "8dd46d5b-9594-4c5e-f580-5fb10f68931c"
      },
      "execution_count": 51,
      "outputs": [
        {
          "output_type": "stream",
          "name": "stdout",
          "text": [
            "['hello', 'happy', 'liking', 'much', 'sunflower', 'beautifull', 'soooo', 'happiness', 'today', 'love']\n"
          ]
        }
      ]
    },
    {
      "cell_type": "markdown",
      "source": [],
      "metadata": {
        "id": "tmsTpCO-AexA"
      }
    },
    {
      "cell_type": "code",
      "source": [
        "words =['happier','happiness','happy','studying','study',\n",
        "' studies','meeting']"
      ],
      "metadata": {
        "id": "thBh0QbFKU7g"
      },
      "execution_count": 52,
      "outputs": []
    },
    {
      "cell_type": "code",
      "source": [
        "print()\n",
        "print('\\033[92m')\n",
        "print(tweets_clean)\n",
        "print('\\033[94m')\n",
        "\n",
        "# Instantiate stemming class\n",
        "stemmer = PorterStemmer()\n",
        "\n",
        "# Create an empty list to store the stems\n",
        "tweets_stem = []\n",
        "\n",
        "for word in tweets_clean:\n",
        "stem_word = stemmer.stem(word) # stemming word\n",
        "tweets_stem.append(stem_word) # append to the list\n",
        "\n",
        "print('stemmed words:')\n",
        "print(tweets_stem)\n"
      ],
      "metadata": {
        "colab": {
          "base_uri": "https://localhost:8080/",
          "height": 106
        },
        "id": "9Dhjj8Z_Kbbq",
        "outputId": "da95e0bc-a3e2-443a-a329-4b008781776b"
      },
      "execution_count": 53,
      "outputs": [
        {
          "output_type": "error",
          "ename": "IndentationError",
          "evalue": "expected an indented block after 'for' statement on line 12 (<ipython-input-53-c6a086b454d1>, line 13)",
          "traceback": [
            "\u001b[0;36m  File \u001b[0;32m\"<ipython-input-53-c6a086b454d1>\"\u001b[0;36m, line \u001b[0;32m13\u001b[0m\n\u001b[0;31m    stem_word = stemmer.stem(word) # stemming word\u001b[0m\n\u001b[0m    ^\u001b[0m\n\u001b[0;31mIndentationError\u001b[0m\u001b[0;31m:\u001b[0m expected an indented block after 'for' statement on line 12\n"
          ]
        }
      ]
    }
  ]
}